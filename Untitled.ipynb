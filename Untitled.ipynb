{
 "cells": [
  {
   "cell_type": "code",
   "execution_count": null,
   "metadata": {},
   "outputs": [],
   "source": [
    "import psycopg2\n",
    "import pandas as pd\n",
    "import matplotlib.pyplot as plt"
   ]
  },
  {
   "cell_type": "code",
   "execution_count": null,
   "metadata": {},
   "outputs": [],
   "source": [
    "c = psycopg2.connect(\"dbname=footballdb user=decoy\")"
   ]
  },
  {
   "cell_type": "code",
   "execution_count": null,
   "metadata": {},
   "outputs": [],
   "source": [
    "c = c.cursor()"
   ]
  },
  {
   "cell_type": "code",
   "execution_count": null,
   "metadata": {},
   "outputs": [],
   "source": [
    "c.execute(\"select HomeTeam, sum(FTHG) from matches where Season=2011 group by HomeTeam;\")\n",
    "\n",
    "df_hometeam = pd.DataFrame(c.fetchall(), columns=['team_name', 'home_goals'])\n",
    "\n",
    "c.execute(\"select AwayTeam, sum(FTAG) from matches where Season=2011 group by AwayTeam;\")\n",
    "df_awayteam = pd.DataFrame(c.fetchall(), columns=['team_name', 'away_goals'])"
   ]
  },
  {
   "cell_type": "code",
   "execution_count": null,
   "metadata": {},
   "outputs": [],
   "source": [
    "df = pd.merge(df_hometeam, df_awayteam, how='left', on='team_name' )\n"
   ]
  },
  {
   "cell_type": "code",
   "execution_count": null,
   "metadata": {},
   "outputs": [],
   "source": [
    "df.shape"
   ]
  },
  {
   "cell_type": "code",
   "execution_count": null,
   "metadata": {},
   "outputs": [],
   "source": [
    "df['goals'] = df['home_goals'] + df['away_goals']\n",
    "df = df.drop(['home_goals', 'away_goals'], axis=1)\n",
    "df.shape"
   ]
  },
  {
   "cell_type": "code",
   "execution_count": null,
   "metadata": {},
   "outputs": [],
   "source": [
    "c.execute(\"select HomeTeam, count(ftr) from matches where Season=2011 and ftr='H' group by HomeTeam;\")\n",
    "df_home_win = pd.DataFrame(c.fetchall(),  columns=['team_name', 'home_wins'])\n",
    "c.execute(\"select AwayTeam, count(ftr) from matches where Season=2011 and ftr='A' group by AwayTeam;\")\n",
    "df_away_win = pd.DataFrame(c.fetchall(),  columns=['team_name', 'away_wins'])"
   ]
  },
  {
   "cell_type": "code",
   "execution_count": null,
   "metadata": {},
   "outputs": [],
   "source": [
    "df_wins = pd.merge(df_home_win, df_away_win, how='left', on='team_name')\n",
    "df_wins['wins'] = df_wins['home_wins'] + df_wins['away_wins']\n",
    "df_wins = df_wins.drop(['home_wins', 'away_wins'], axis=1)\n",
    "df_wins.shape"
   ]
  },
  {
   "cell_type": "code",
   "execution_count": null,
   "metadata": {},
   "outputs": [],
   "source": [
    "df = pd.merge(df_wins, df, how='right', on='team_name')\n",
    "df.shape"
   ]
  },
  {
   "cell_type": "code",
   "execution_count": null,
   "metadata": {},
   "outputs": [],
   "source": [
    "c.execute(\"select HomeTeam, count(ftr) from matches where Season=2011 and ftr='A' group by HomeTeam;\")\n",
    "df_home_loses = pd.DataFrame(c.fetchall(), columns=['team_name', 'home_loses'])\n",
    "c.execute(\"select AwayTeam, count(ftr) from matches where Season=2011 and ftr='H' group by AwayTeam;\")\n",
    "df_away_loses = pd.DataFrame(c.fetchall(), columns=['team_name', 'away_loses'])\n",
    "df_away_loses.shape\n"
   ]
  },
  {
   "cell_type": "code",
   "execution_count": null,
   "metadata": {},
   "outputs": [],
   "source": [
    "df_losses = pd.merge(df_home_loses, df_away_loses, how='right', on='team_name')\n",
    "df_losses['losses'] = df_losses['home_loses'] + df_losses['away_loses']\n",
    "df_losses = df_losses.drop(['home_loses', 'away_loses'], axis=1)\n",
    "df_losses.shape"
   ]
  },
  {
   "cell_type": "code",
   "execution_count": null,
   "metadata": {},
   "outputs": [],
   "source": [
    "df_losses = df_losses.fillna(0)"
   ]
  },
  {
   "cell_type": "code",
   "execution_count": null,
   "metadata": {},
   "outputs": [],
   "source": [
    "df_losses['losses'] = df_losses['losses'].astype(int)"
   ]
  },
  {
   "cell_type": "code",
   "execution_count": null,
   "metadata": {},
   "outputs": [],
   "source": [
    "df = pd.merge(df, df_losses, how='left', on='team_name')\n",
    "df.head()"
   ]
  },
  {
   "cell_type": "code",
   "execution_count": null,
   "metadata": {},
   "outputs": [],
   "source": [
    "x = [df['wins'], df['goals'], df['losses']]\n",
    "plt.hist(x)"
   ]
  }
 ],
 "metadata": {
  "kernelspec": {
   "display_name": "Python 3",
   "language": "python",
   "name": "python3"
  },
  "language_info": {
   "codemirror_mode": {
    "name": "ipython",
    "version": 3
   },
   "file_extension": ".py",
   "mimetype": "text/x-python",
   "name": "python",
   "nbconvert_exporter": "python",
   "pygments_lexer": "ipython3",
   "version": "3.7.3"
  }
 },
 "nbformat": 4,
 "nbformat_minor": 2
}
